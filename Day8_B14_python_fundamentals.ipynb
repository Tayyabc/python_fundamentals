{
 "cells": [
  {
   "cell_type": "code",
   "execution_count": null,
   "metadata": {},
   "outputs": [],
   "source": [
    "# User Accepted Input"
   ]
  },
  {
   "cell_type": "code",
   "execution_count": null,
   "metadata": {},
   "outputs": [],
   "source": [
    "# Example logging In any website they will ask for \n",
    "#Username :..........\n",
    "#Full Name:..........\n",
    "#Passsword:........."
   ]
  },
  {
   "cell_type": "code",
   "execution_count": null,
   "metadata": {},
   "outputs": [],
   "source": [
    "# When user inputs details it will validate with data saved in server."
   ]
  },
  {
   "cell_type": "code",
   "execution_count": null,
   "metadata": {},
   "outputs": [],
   "source": []
  },
  {
   "cell_type": "code",
   "execution_count": 1,
   "metadata": {},
   "outputs": [
    {
     "name": "stdout",
     "output_type": "stream",
     "text": [
      "Tell me something and i will repeat it back for you : Hello World\n",
      "Hello World\n"
     ]
    }
   ],
   "source": [
    "message = input('Tell me something and i will repeat it back for you : ')\n",
    "print(message)"
   ]
  },
  {
   "cell_type": "code",
   "execution_count": null,
   "metadata": {},
   "outputs": [],
   "source": [
    "# Enhancement of code"
   ]
  },
  {
   "cell_type": "code",
   "execution_count": 2,
   "metadata": {},
   "outputs": [
    {
     "name": "stdout",
     "output_type": "stream",
     "text": [
      "Please Enter Your Name : tayyab\n",
      "\n",
      "Welcome Back.\n",
      "Good to have you on Amazon,tayyab\n"
     ]
    }
   ],
   "source": [
    "name = input('Please Enter Your Name : ')\n",
    "print(f\"\\nWelcome Back.\\nGood to have you on Amazon,{name}\")"
   ]
  },
  {
   "cell_type": "code",
   "execution_count": 3,
   "metadata": {},
   "outputs": [
    {
     "name": "stdout",
     "output_type": "stream",
     "text": [
      "Please Enter Your Name : tayyab\n",
      "\n",
      "Welcome Back.\n",
      "Good to have you on Amazon,Tayyab\n"
     ]
    }
   ],
   "source": [
    "# Further Enhancement\n",
    "name = input('Please Enter Your Name : ')\n",
    "print(f\"\\nWelcome Back.\\nGood to have you on Amazon,{name.title()}\")"
   ]
  },
  {
   "cell_type": "code",
   "execution_count": null,
   "metadata": {},
   "outputs": [],
   "source": [
    "# Case Study:\n",
    "# Understanding if Conditions.\n",
    "# Building a single voting application"
   ]
  },
  {
   "cell_type": "code",
   "execution_count": null,
   "metadata": {},
   "outputs": [],
   "source": [
    "# Validate the age>=18 then eligible for voting\n",
    "# if not then, sorry not eligible to Vote, try next year."
   ]
  },
  {
   "cell_type": "code",
   "execution_count": null,
   "metadata": {},
   "outputs": [],
   "source": [
    "Note\n",
    "Input -- method accenpting data as string\n",
    "We have to convert string to Integer\n",
    "\n",
    "because string and integer can not be compaired"
   ]
  },
  {
   "cell_type": "code",
   "execution_count": null,
   "metadata": {},
   "outputs": [],
   "source": [
    "type casting \n",
    "# for converting data type from one format to another it is called as type casting."
   ]
  },
  {
   "cell_type": "code",
   "execution_count": null,
   "metadata": {},
   "outputs": [],
   "source": []
  },
  {
   "cell_type": "code",
   "execution_count": 4,
   "metadata": {},
   "outputs": [
    {
     "name": "stdout",
     "output_type": "stream",
     "text": [
      "How old are you: 26\n"
     ]
    },
    {
     "ename": "TypeError",
     "evalue": "'>=' not supported between instances of 'str' and 'int'",
     "output_type": "error",
     "traceback": [
      "\u001b[1;31m---------------------------------------------------------------------------\u001b[0m",
      "\u001b[1;31mTypeError\u001b[0m                                 Traceback (most recent call last)",
      "\u001b[1;32m<ipython-input-4-5a9edd074fbb>\u001b[0m in \u001b[0;36m<module>\u001b[1;34m\u001b[0m\n\u001b[0;32m      1\u001b[0m \u001b[0mage\u001b[0m \u001b[1;33m=\u001b[0m \u001b[0minput\u001b[0m\u001b[1;33m(\u001b[0m\u001b[1;34m'How old are you: '\u001b[0m\u001b[1;33m)\u001b[0m\u001b[1;33m\u001b[0m\u001b[1;33m\u001b[0m\u001b[0m\n\u001b[1;32m----> 2\u001b[1;33m \u001b[1;32mif\u001b[0m \u001b[0mage\u001b[0m\u001b[1;33m>=\u001b[0m\u001b[1;36m18\u001b[0m\u001b[1;33m:\u001b[0m\u001b[1;33m\u001b[0m\u001b[1;33m\u001b[0m\u001b[0m\n\u001b[0m\u001b[0;32m      3\u001b[0m     \u001b[0mprint\u001b[0m\u001b[1;33m(\u001b[0m\u001b[1;34m'You are eligible to vote.'\u001b[0m\u001b[1;33m)\u001b[0m\u001b[1;33m\u001b[0m\u001b[1;33m\u001b[0m\u001b[0m\n\u001b[0;32m      4\u001b[0m \u001b[1;32melse\u001b[0m\u001b[1;33m:\u001b[0m\u001b[1;33m\u001b[0m\u001b[1;33m\u001b[0m\u001b[0m\n\u001b[0;32m      5\u001b[0m     \u001b[0mprint\u001b[0m\u001b[1;33m(\u001b[0m\u001b[1;34m'sorry not eligible to Vote, try next year'\u001b[0m\u001b[1;33m)\u001b[0m\u001b[1;33m\u001b[0m\u001b[1;33m\u001b[0m\u001b[0m\n",
      "\u001b[1;31mTypeError\u001b[0m: '>=' not supported between instances of 'str' and 'int'"
     ]
    }
   ],
   "source": [
    "age = input('How old are you: ')\n",
    "if age>=18:\n",
    "    print('You are eligible to vote.')\n",
    "else:\n",
    "    print('sorry not eligible to Vote, try next year')"
   ]
  },
  {
   "cell_type": "code",
   "execution_count": 5,
   "metadata": {},
   "outputs": [
    {
     "name": "stdout",
     "output_type": "stream",
     "text": [
      "How old are you: 26\n",
      "You are eligible to vote.\n"
     ]
    }
   ],
   "source": [
    "age = input('How old are you: ')\n",
    "\n",
    "age = int(age)# typecasting.....Converting str to int manually\n",
    "\n",
    "if age>=18:\n",
    "    print('You are eligible to vote.')\n",
    "else:\n",
    "    print('sorry not eligible to Vote, try next year')"
   ]
  },
  {
   "cell_type": "code",
   "execution_count": 6,
   "metadata": {},
   "outputs": [
    {
     "name": "stdout",
     "output_type": "stream",
     "text": [
      "How old are you: 15\n",
      "sorry not eligible to Vote, try next year\n"
     ]
    }
   ],
   "source": [
    "age = input('How old are you: ')\n",
    "\n",
    "age = int(age)# typecasting.....Converting str to int manually\n",
    "\n",
    "if age>=18:\n",
    "    print('You are eligible to vote.')\n",
    "else:\n",
    "    print('sorry not eligible to Vote, try next year')"
   ]
  },
  {
   "cell_type": "code",
   "execution_count": null,
   "metadata": {},
   "outputs": [],
   "source": []
  }
 ],
 "metadata": {
  "kernelspec": {
   "display_name": "Python 3",
   "language": "python",
   "name": "python3"
  },
  "language_info": {
   "codemirror_mode": {
    "name": "ipython",
    "version": 3
   },
   "file_extension": ".py",
   "mimetype": "text/x-python",
   "name": "python",
   "nbconvert_exporter": "python",
   "pygments_lexer": "ipython3",
   "version": "3.7.6"
  }
 },
 "nbformat": 4,
 "nbformat_minor": 4
}
