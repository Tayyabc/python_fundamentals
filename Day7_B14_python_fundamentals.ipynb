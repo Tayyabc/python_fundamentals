{
 "cells": [
  {
   "cell_type": "code",
   "execution_count": null,
   "metadata": {},
   "outputs": [],
   "source": [
    "# Delet the element in the list"
   ]
  },
  {
   "cell_type": "code",
   "execution_count": 1,
   "metadata": {},
   "outputs": [
    {
     "name": "stdout",
     "output_type": "stream",
     "text": [
      "['santosh', 'neha', 'sindhu', 'deepak', 'satya', 'prakash']\n"
     ]
    }
   ],
   "source": [
    "students = ['santosh','neha','sindhu','deepak','satya','prakash']\n",
    "print(students)"
   ]
  },
  {
   "cell_type": "code",
   "execution_count": 2,
   "metadata": {},
   "outputs": [
    {
     "data": {
      "text/plain": [
       "list"
      ]
     },
     "execution_count": 2,
     "metadata": {},
     "output_type": "execute_result"
    }
   ],
   "source": [
    "type(students)"
   ]
  },
  {
   "cell_type": "code",
   "execution_count": null,
   "metadata": {},
   "outputs": [],
   "source": [
    "# Two possiblie ways to delete the element"
   ]
  },
  {
   "cell_type": "code",
   "execution_count": 4,
   "metadata": {},
   "outputs": [
    {
     "name": "stdout",
     "output_type": "stream",
     "text": [
      "['santosh', 'neha', 'sindhu', 'deepak', 'prakash']\n"
     ]
    }
   ],
   "source": [
    "del students[4]# Permanent Delete\n",
    "print(students)"
   ]
  },
  {
   "cell_type": "code",
   "execution_count": null,
   "metadata": {},
   "outputs": [],
   "source": [
    "# pop method # Used to delete the item in the list"
   ]
  },
  {
   "cell_type": "code",
   "execution_count": null,
   "metadata": {},
   "outputs": [],
   "source": [
    "# It will create a carbon copy of the deleted element."
   ]
  },
  {
   "cell_type": "code",
   "execution_count": 5,
   "metadata": {},
   "outputs": [
    {
     "name": "stdout",
     "output_type": "stream",
     "text": [
      "['santosh', 'neha', 'sindhu', 'deepak']\n"
     ]
    }
   ],
   "source": [
    "students.pop()# By default pop will delete the last element of the list\n",
    "print(students)"
   ]
  },
  {
   "cell_type": "code",
   "execution_count": 6,
   "metadata": {},
   "outputs": [
    {
     "name": "stdout",
     "output_type": "stream",
     "text": [
      "['neha', 'sindhu', 'deepak']\n"
     ]
    }
   ],
   "source": [
    "students.pop(0) # Delete the element at given index\n",
    "print(students)"
   ]
  },
  {
   "cell_type": "code",
   "execution_count": null,
   "metadata": {},
   "outputs": [],
   "source": [
    "# Introduction to For loops."
   ]
  },
  {
   "cell_type": "code",
   "execution_count": 7,
   "metadata": {},
   "outputs": [
    {
     "name": "stdout",
     "output_type": "stream",
     "text": [
      "['dinkar', 'iqbal', 'zaheer', 'kiran', 'pradeep', 'pavan']\n"
     ]
    }
   ],
   "source": [
    "my_students =['dinkar','iqbal','zaheer','kiran','pradeep','pavan']\n",
    "print(my_students)"
   ]
  },
  {
   "cell_type": "code",
   "execution_count": 9,
   "metadata": {},
   "outputs": [
    {
     "name": "stdout",
     "output_type": "stream",
     "text": [
      "dinkar\n",
      "iqbal\n",
      "zaheer\n",
      "kiran\n",
      "pradeep\n",
      "pavan\n"
     ]
    }
   ],
   "source": [
    "for student in my_students:# for tempVar(any name) in main_Var(my-students)\n",
    "    print(student)# Indentation"
   ]
  },
  {
   "cell_type": "code",
   "execution_count": 10,
   "metadata": {},
   "outputs": [
    {
     "name": "stdout",
     "output_type": "stream",
     "text": [
      "dinkar\n",
      "iqbal\n",
      "zaheer\n",
      "kiran\n",
      "pradeep\n",
      "pavan\n"
     ]
    }
   ],
   "source": [
    "# Example\n",
    "for abc in my_students:\n",
    "    print(abc)"
   ]
  },
  {
   "cell_type": "code",
   "execution_count": null,
   "metadata": {},
   "outputs": [],
   "source": [
    "# Syntax\n",
    "for tempVar in mainVar:\n",
    "    print(mainVar)"
   ]
  },
  {
   "cell_type": "code",
   "execution_count": null,
   "metadata": {},
   "outputs": [],
   "source": []
  }
 ],
 "metadata": {
  "kernelspec": {
   "display_name": "Python 3",
   "language": "python",
   "name": "python3"
  },
  "language_info": {
   "codemirror_mode": {
    "name": "ipython",
    "version": 3
   },
   "file_extension": ".py",
   "mimetype": "text/x-python",
   "name": "python",
   "nbconvert_exporter": "python",
   "pygments_lexer": "ipython3",
   "version": "3.7.6"
  }
 },
 "nbformat": 4,
 "nbformat_minor": 4
}
